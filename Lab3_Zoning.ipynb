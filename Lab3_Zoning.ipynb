{
  "nbformat": 4,
  "nbformat_minor": 0,
  "metadata": {
    "colab": {
      "name": "Lab3_Zoning.ipynb",
      "provenance": [],
      "collapsed_sections": []
    },
    "kernelspec": {
      "name": "python3",
      "display_name": "Python 3"
    },
    "language_info": {
      "name": "python"
    }
  },
  "cells": [
    {
      "cell_type": "code",
      "metadata": {
        "id": "IM3ViwEcWre_"
      },
      "source": [
        "# Evan Collins\n",
        "# IDCE 30274\n",
        "# Created 5/6/2021\n",
        "# Creating a map of planned unit development and zoing in DC\n",
        "# # Based on a tutorial\n",
        "# Prepare environment \n",
        "!pip install geopandas\n",
        "!apt-get install -y libspatialindex-dev\n",
        "!pip install rtree\n",
        "\n",
        "import pandas as pd  # provides interface for interacting with tabular data\n",
        "import geopandas as gpd  # combines the capabilities of pandas and shapely for geospatial operations\n",
        "from shapely.geometry import Point, Polygon, MultiPolygon  # for manipulating text data into geospatial shapes\n",
        "from shapely import wkt  # stands for \"well known text,\" allows for interchange across GIS programs\n",
        "import rtree  # supports geospatial join\n",
        "\n",
        "from google.colab import drive\n",
        "drive.mount('/content/gdrive')\n",
        "root_path='gdrive/My Drive/GIS/'\n",
        "\n"
      ],
      "execution_count": null,
      "outputs": []
    },
    {
      "cell_type": "code",
      "metadata": {
        "id": "ufjHKWFWcz1o"
      },
      "source": [
        "#read in PUD files\n",
        "puds=gpd.read_file(root_path+'INPUT/Planned_Unit_Development_(PUDs).shp')\n",
        "aff=pd.read_csv(root_path+'INPUT/Affordable_Housing.csv')\n",
        "crosswalk=pd.read_csv(root_path+'INPUT/zoning_crosswalk.csv')\n",
        "\n",
        "# Create a geometry column in the affordable housing dataframe\n",
        "aff['geometry'] = aff.apply(lambda row: Point(row.X, row.Y), axis=1)\n",
        "aff = gpd.GeoDataFrame(aff, crs={'init' :'epsg:4326'})\n",
        "\n",
        "puds_aff=gpd.sjoin(puds, aff, op='intersects',how='left')\n",
        "\n",
        "puds_info=puds_aff.merge(crosswalk[['Zone_Cat']],how='left',left_on='PUD_ZONING',right_on=crosswalk['Zone'])\n",
        "\n",
        "print(f\"Total count of PUDs: {puds_info.shape[0]}\")\n",
        "print(f\"Count PUDs offering Affordable Housing: {puds_info.loc[~puds_info.PROJECT_NAME.isna()].shape[0]}\")\n",
        "\n",
        "# Create a map \n",
        "puds_info[puds_info['TOTAL_AFFORDABLE_UNITS']>0].plot(column='TOTAL_AFFORDABLE_UNITS',color='grey',figsize=(16,8))\n",
        "\n",
        "# Export files\n",
        "puds_info.to_file('puds_info.shp')\n",
        "!cp puds_info.cpg 'gdrive/My Drive/GIS/OUTPUT'\n",
        "!cp puds_info.dbf 'gdrive/My Drive/GIS/OUTPUT'\n",
        "!cp puds_info.prj 'gdrive/My Drive/GIS/OUTPUT'\n",
        "!cp puds_info.shp 'gdrive/My Drive/GIS/OUTPUT'\n",
        "!cp puds_info.shx 'gdrive/My Drive/GIS/OUTPUT'"
      ],
      "execution_count": null,
      "outputs": []
    }
  ]
}